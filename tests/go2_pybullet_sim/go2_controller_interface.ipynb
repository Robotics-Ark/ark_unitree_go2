{
 "cells": [
  {
   "cell_type": "code",
   "execution_count": 20,
   "id": "034f96b3",
   "metadata": {},
   "outputs": [
    {
     "name": "stderr",
     "output_type": "stream",
     "text": [
      "\u001b[93m[WARNING] [11:34:22.507164] - No global configuration provided. Using default system configuration.\u001b[0m\n",
      "\u001b[96m[INFO] [11:34:22.509890] - Service: Successfully registered '__DEFAULT_SERVICE/GetInfo/GO2Controller_3a0a2996-afb1-41de-b903-f3b0d01bc8dc' with registry.\u001b[0m\n",
      "\u001b[96m[INFO] [11:34:22.511017] - Service: Successfully registered '__DEFAULT_SERVICE/SuspendNode/GO2Controller_3a0a2996-afb1-41de-b903-f3b0d01bc8dc' with registry.\u001b[0m\n",
      "\u001b[96m[INFO] [11:34:22.512156] - Service: Successfully registered '__DEFAULT_SERVICE/RestartNode/GO2Controller_3a0a2996-afb1-41de-b903-f3b0d01bc8dc' with registry.\u001b[0m\n",
      "\u001b[91m[ERROR] [11:34:22.512477] - Couldn't load config for other 'GO2Controller'\u001b[0m\n",
      "\u001b[92m\u001b[1m[OK] [11:34:22.513097] - setup publisher UnitreeGo2/joint_group_command/sim[joint_group_command_t]\u001b[0m\n",
      "\u001b[92m\u001b[1m[OK] [11:34:22.513676] - subscribed to UnitreeGo2/joint_states/sim[joint_state_t]\u001b[0m\n"
     ]
    },
    {
     "name": "stdout",
     "output_type": "stream",
     "text": [
      "None\n"
     ]
    }
   ],
   "source": [
    "import numpy as np\n",
    "from arktypes import joint_group_command_t, task_space_command_t, joint_state_t\n",
    "from arktypes.utils import unpack, pack\n",
    "from ark.client.comm_infrastructure.instance_node import InstanceNode\n",
    "\n",
    "SIM = True\n",
    "\n",
    "class GO2ControllerNode(InstanceNode):\n",
    "\n",
    "    def __init__(self):\n",
    "        '''\n",
    "        Initialize the GO2.\n",
    "        This class is responsible for controlling the Husky robot's joints.\n",
    "        '''\n",
    "        super().__init__(\"GO2Controller\")\n",
    "\n",
    "        if SIM == True:\n",
    "            self.joint_group_command = self.create_publisher(\"UnitreeGo2/joint_group_command/sim\", joint_group_command_t)\n",
    "\n",
    "            self.state = self.create_listener(\"UnitreeGo2/joint_states/sim\", joint_state_t)\n",
    "\n",
    "controller = GO2ControllerNode()"
   ]
  },
  {
   "cell_type": "markdown",
   "id": "319568af",
   "metadata": {},
   "source": [
    "* FL\\_hip\\_joint\n",
    "* FL\\_thigh\\_joint\n",
    "* FL\\_calf\\_joint\n",
    "* FR\\_hip\\_joint\n",
    "* FR\\_thigh\\_joint\n",
    "* FR\\_calf\\_joint\n",
    "* RL\\_hip\\_joint\n",
    "* RL\\_thigh\\_joint\n",
    "* RL\\_calf\\_joint\n",
    "* RR\\_hip\\_joint\n",
    "* RR\\_thigh\\_joint\n",
    "* RR\\_calf\\_joint"
   ]
  },
  {
   "cell_type": "code",
   "execution_count": 24,
   "id": "02326837",
   "metadata": {},
   "outputs": [],
   "source": [
    "\n",
    "# FORWARDS\n",
    "joint_command = [1, 0, 0, 0, 0, 0]\n",
    "# Velocity Control\n",
    "controller.joint_group_command.publish(pack.joint_group_command(joint_command, \"all\"))"
   ]
  },
  {
   "cell_type": "code",
   "execution_count": 17,
   "id": "99d6fa94",
   "metadata": {},
   "outputs": [
    {
     "data": {
      "text/plain": [
       "({'seq': 0, 'stamp': {'sec': 0, 'nsec': 0}, 'frame_id': ''},\n",
       " ['FL_hip_joint',\n",
       "  'FL_thigh_joint',\n",
       "  'FL_calf_joint',\n",
       "  'FR_hip_joint',\n",
       "  'FR_thigh_joint',\n",
       "  'FR_calf_joint',\n",
       "  'RL_hip_joint',\n",
       "  'RL_thigh_joint',\n",
       "  'RL_calf_joint',\n",
       "  'RR_hip_joint',\n",
       "  'RR_thigh_joint',\n",
       "  'RR_calf_joint'],\n",
       " array([ 9.98395096e-01,  5.73586253e-05, -8.37671272e-01,  6.46626586e-04,\n",
       "         4.77678354e-05, -8.37905534e-01, -5.37067286e-02, -4.86142702e-01,\n",
       "         3.44827894e-01,  2.18173469e-02,  1.09331965e-02,  4.49893060e-02]),\n",
       " array([0., 0., 0., 0., 0., 0., 0., 0., 0., 0., 0., 0.]),\n",
       " array([0., 0., 0., 0., 0., 0., 0., 0., 0., 0., 0., 0.]))"
      ]
     },
     "execution_count": 17,
     "metadata": {},
     "output_type": "execute_result"
    }
   ],
   "source": [
    "unpack.joint_state(controller.state.get())"
   ]
  }
 ],
 "metadata": {
  "kernelspec": {
   "display_name": "ark_env",
   "language": "python",
   "name": "python3"
  },
  "language_info": {
   "codemirror_mode": {
    "name": "ipython",
    "version": 3
   },
   "file_extension": ".py",
   "mimetype": "text/x-python",
   "name": "python",
   "nbconvert_exporter": "python",
   "pygments_lexer": "ipython3",
   "version": "3.10.18"
  }
 },
 "nbformat": 4,
 "nbformat_minor": 5
}
